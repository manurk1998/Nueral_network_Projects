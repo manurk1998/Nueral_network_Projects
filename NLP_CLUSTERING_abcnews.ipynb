{
  "nbformat": 4,
  "nbformat_minor": 0,
  "metadata": {
    "colab": {
      "provenance": []
    },
    "kernelspec": {
      "name": "python3",
      "display_name": "Python 3"
    },
    "language_info": {
      "name": "python"
    }
  },
  "cells": [
    {
      "cell_type": "markdown",
      "source": [
        "\n",
        "# **NATURAL LANGUAGE PROCESSING  AND CLUSTERING DATASET**\n",
        "\n",
        "---\n",
        "**removed special charachters with blank spaces in data\n",
        "**Tokenize data\n",
        "**Stemming\n",
        "**Converted to lowercase\n",
        "**vectorized\n",
        "**clustering using kmeans\n",
        "**Using elbow method to get value of k\n",
        "\n",
        "\n",
        "\n",
        "\n"
      ],
      "metadata": {
        "id": "zjuuDDVzz-Bo"
      }
    },
    {
      "cell_type": "code",
      "execution_count": null,
      "metadata": {
        "colab": {
          "base_uri": "https://localhost:8080/",
          "height": 423
        },
        "id": "TrPr0gQKu1JG",
        "outputId": "1411b62f-631c-4365-a609-1330b7e1394e"
      },
      "outputs": [
        {
          "output_type": "execute_result",
          "data": {
            "text/plain": [
              "                                          headline_text\n",
              "0     aba decides against community broadcasting lic...\n",
              "1        act fire witnesses must be aware of defamation\n",
              "2        a g calls for infrastructure protection summit\n",
              "3              air nz staff in aust strike for pay rise\n",
              "4         air nz strike to affect australian travellers\n",
              "...                                                 ...\n",
              "4995    singapore warns travellers after virus outbreak\n",
              "4996                  slater stars for blues on day one\n",
              "4997     sopranos filming delayed over contract dispute\n",
              "4998             souris outlines regional roads funding\n",
              "4999             south east water licensees to pay levy\n",
              "\n",
              "[5000 rows x 1 columns]"
            ],
            "text/html": [
              "\n",
              "  <div id=\"df-807fd767-dcf8-4cf3-a5db-eee0040ce1af\">\n",
              "    <div class=\"colab-df-container\">\n",
              "      <div>\n",
              "<style scoped>\n",
              "    .dataframe tbody tr th:only-of-type {\n",
              "        vertical-align: middle;\n",
              "    }\n",
              "\n",
              "    .dataframe tbody tr th {\n",
              "        vertical-align: top;\n",
              "    }\n",
              "\n",
              "    .dataframe thead th {\n",
              "        text-align: right;\n",
              "    }\n",
              "</style>\n",
              "<table border=\"1\" class=\"dataframe\">\n",
              "  <thead>\n",
              "    <tr style=\"text-align: right;\">\n",
              "      <th></th>\n",
              "      <th>headline_text</th>\n",
              "    </tr>\n",
              "  </thead>\n",
              "  <tbody>\n",
              "    <tr>\n",
              "      <th>0</th>\n",
              "      <td>aba decides against community broadcasting lic...</td>\n",
              "    </tr>\n",
              "    <tr>\n",
              "      <th>1</th>\n",
              "      <td>act fire witnesses must be aware of defamation</td>\n",
              "    </tr>\n",
              "    <tr>\n",
              "      <th>2</th>\n",
              "      <td>a g calls for infrastructure protection summit</td>\n",
              "    </tr>\n",
              "    <tr>\n",
              "      <th>3</th>\n",
              "      <td>air nz staff in aust strike for pay rise</td>\n",
              "    </tr>\n",
              "    <tr>\n",
              "      <th>4</th>\n",
              "      <td>air nz strike to affect australian travellers</td>\n",
              "    </tr>\n",
              "    <tr>\n",
              "      <th>...</th>\n",
              "      <td>...</td>\n",
              "    </tr>\n",
              "    <tr>\n",
              "      <th>4995</th>\n",
              "      <td>singapore warns travellers after virus outbreak</td>\n",
              "    </tr>\n",
              "    <tr>\n",
              "      <th>4996</th>\n",
              "      <td>slater stars for blues on day one</td>\n",
              "    </tr>\n",
              "    <tr>\n",
              "      <th>4997</th>\n",
              "      <td>sopranos filming delayed over contract dispute</td>\n",
              "    </tr>\n",
              "    <tr>\n",
              "      <th>4998</th>\n",
              "      <td>souris outlines regional roads funding</td>\n",
              "    </tr>\n",
              "    <tr>\n",
              "      <th>4999</th>\n",
              "      <td>south east water licensees to pay levy</td>\n",
              "    </tr>\n",
              "  </tbody>\n",
              "</table>\n",
              "<p>5000 rows × 1 columns</p>\n",
              "</div>\n",
              "      <button class=\"colab-df-convert\" onclick=\"convertToInteractive('df-807fd767-dcf8-4cf3-a5db-eee0040ce1af')\"\n",
              "              title=\"Convert this dataframe to an interactive table.\"\n",
              "              style=\"display:none;\">\n",
              "        \n",
              "  <svg xmlns=\"http://www.w3.org/2000/svg\" height=\"24px\"viewBox=\"0 0 24 24\"\n",
              "       width=\"24px\">\n",
              "    <path d=\"M0 0h24v24H0V0z\" fill=\"none\"/>\n",
              "    <path d=\"M18.56 5.44l.94 2.06.94-2.06 2.06-.94-2.06-.94-.94-2.06-.94 2.06-2.06.94zm-11 1L8.5 8.5l.94-2.06 2.06-.94-2.06-.94L8.5 2.5l-.94 2.06-2.06.94zm10 10l.94 2.06.94-2.06 2.06-.94-2.06-.94-.94-2.06-.94 2.06-2.06.94z\"/><path d=\"M17.41 7.96l-1.37-1.37c-.4-.4-.92-.59-1.43-.59-.52 0-1.04.2-1.43.59L10.3 9.45l-7.72 7.72c-.78.78-.78 2.05 0 2.83L4 21.41c.39.39.9.59 1.41.59.51 0 1.02-.2 1.41-.59l7.78-7.78 2.81-2.81c.8-.78.8-2.07 0-2.86zM5.41 20L4 18.59l7.72-7.72 1.47 1.35L5.41 20z\"/>\n",
              "  </svg>\n",
              "      </button>\n",
              "      \n",
              "  <style>\n",
              "    .colab-df-container {\n",
              "      display:flex;\n",
              "      flex-wrap:wrap;\n",
              "      gap: 12px;\n",
              "    }\n",
              "\n",
              "    .colab-df-convert {\n",
              "      background-color: #E8F0FE;\n",
              "      border: none;\n",
              "      border-radius: 50%;\n",
              "      cursor: pointer;\n",
              "      display: none;\n",
              "      fill: #1967D2;\n",
              "      height: 32px;\n",
              "      padding: 0 0 0 0;\n",
              "      width: 32px;\n",
              "    }\n",
              "\n",
              "    .colab-df-convert:hover {\n",
              "      background-color: #E2EBFA;\n",
              "      box-shadow: 0px 1px 2px rgba(60, 64, 67, 0.3), 0px 1px 3px 1px rgba(60, 64, 67, 0.15);\n",
              "      fill: #174EA6;\n",
              "    }\n",
              "\n",
              "    [theme=dark] .colab-df-convert {\n",
              "      background-color: #3B4455;\n",
              "      fill: #D2E3FC;\n",
              "    }\n",
              "\n",
              "    [theme=dark] .colab-df-convert:hover {\n",
              "      background-color: #434B5C;\n",
              "      box-shadow: 0px 1px 3px 1px rgba(0, 0, 0, 0.15);\n",
              "      filter: drop-shadow(0px 1px 2px rgba(0, 0, 0, 0.3));\n",
              "      fill: #FFFFFF;\n",
              "    }\n",
              "  </style>\n",
              "\n",
              "      <script>\n",
              "        const buttonEl =\n",
              "          document.querySelector('#df-807fd767-dcf8-4cf3-a5db-eee0040ce1af button.colab-df-convert');\n",
              "        buttonEl.style.display =\n",
              "          google.colab.kernel.accessAllowed ? 'block' : 'none';\n",
              "\n",
              "        async function convertToInteractive(key) {\n",
              "          const element = document.querySelector('#df-807fd767-dcf8-4cf3-a5db-eee0040ce1af');\n",
              "          const dataTable =\n",
              "            await google.colab.kernel.invokeFunction('convertToInteractive',\n",
              "                                                     [key], {});\n",
              "          if (!dataTable) return;\n",
              "\n",
              "          const docLinkHtml = 'Like what you see? Visit the ' +\n",
              "            '<a target=\"_blank\" href=https://colab.research.google.com/notebooks/data_table.ipynb>data table notebook</a>'\n",
              "            + ' to learn more about interactive tables.';\n",
              "          element.innerHTML = '';\n",
              "          dataTable['output_type'] = 'display_data';\n",
              "          await google.colab.output.renderOutput(dataTable, element);\n",
              "          const docLink = document.createElement('div');\n",
              "          docLink.innerHTML = docLinkHtml;\n",
              "          element.appendChild(docLink);\n",
              "        }\n",
              "      </script>\n",
              "    </div>\n",
              "  </div>\n",
              "  "
            ]
          },
          "metadata": {},
          "execution_count": 111
        }
      ],
      "source": [
        "import pandas as pd\n",
        "df=pd.read_csv(\"/content/abcnews-date-text.csv\",usecols=[\"headline_text\"],nrows=5000)\n",
        "df"
      ]
    },
    {
      "cell_type": "code",
      "source": [
        "df.isna().sum()"
      ],
      "metadata": {
        "colab": {
          "base_uri": "https://localhost:8080/"
        },
        "id": "JyYiANE2u6xS",
        "outputId": "c1ef0b03-023d-4dd3-fd11-79045328943c"
      },
      "execution_count": null,
      "outputs": [
        {
          "output_type": "execute_result",
          "data": {
            "text/plain": [
              "headline_text    0\n",
              "dtype: int64"
            ]
          },
          "metadata": {},
          "execution_count": 112
        }
      ]
    },
    {
      "cell_type": "code",
      "source": [
        "df.dtypes"
      ],
      "metadata": {
        "colab": {
          "base_uri": "https://localhost:8080/"
        },
        "id": "81VysYJ4u-Ny",
        "outputId": "350b799b-45b4-46c9-b3a8-e9ab8bbd0973"
      },
      "execution_count": null,
      "outputs": [
        {
          "output_type": "execute_result",
          "data": {
            "text/plain": [
              "headline_text    object\n",
              "dtype: object"
            ]
          },
          "metadata": {},
          "execution_count": 113
        }
      ]
    },
    {
      "cell_type": "code",
      "source": [
        "txt=df.headline_text\n",
        "txt"
      ],
      "metadata": {
        "colab": {
          "base_uri": "https://localhost:8080/"
        },
        "id": "nQJYT2ySvsYy",
        "outputId": "fee5336b-e943-499b-ae89-8e4345f5a596"
      },
      "execution_count": null,
      "outputs": [
        {
          "output_type": "execute_result",
          "data": {
            "text/plain": [
              "0       aba decides against community broadcasting lic...\n",
              "1          act fire witnesses must be aware of defamation\n",
              "2          a g calls for infrastructure protection summit\n",
              "3                air nz staff in aust strike for pay rise\n",
              "4           air nz strike to affect australian travellers\n",
              "                              ...                        \n",
              "4995      singapore warns travellers after virus outbreak\n",
              "4996                    slater stars for blues on day one\n",
              "4997       sopranos filming delayed over contract dispute\n",
              "4998               souris outlines regional roads funding\n",
              "4999               south east water licensees to pay levy\n",
              "Name: headline_text, Length: 5000, dtype: object"
            ]
          },
          "metadata": {},
          "execution_count": 114
        }
      ]
    },
    {
      "cell_type": "code",
      "source": [
        "#remove special charachters with blank spaces\n",
        "txt=txt.str.replace('[^a-zA-Z0-9]+',\" \")\n",
        "txt\n"
      ],
      "metadata": {
        "id": "YLi1273_v4i6",
        "colab": {
          "base_uri": "https://localhost:8080/"
        },
        "outputId": "812f9339-6101-41a4-d9a5-0d55a9d9c2a9"
      },
      "execution_count": null,
      "outputs": [
        {
          "output_type": "stream",
          "name": "stderr",
          "text": [
            "<ipython-input-115-269ecab9222e>:2: FutureWarning: The default value of regex will change from True to False in a future version.\n",
            "  txt=txt.str.replace('[^a-zA-Z0-9]+',\" \")\n"
          ]
        },
        {
          "output_type": "execute_result",
          "data": {
            "text/plain": [
              "0       aba decides against community broadcasting lic...\n",
              "1          act fire witnesses must be aware of defamation\n",
              "2          a g calls for infrastructure protection summit\n",
              "3                air nz staff in aust strike for pay rise\n",
              "4           air nz strike to affect australian travellers\n",
              "                              ...                        \n",
              "4995      singapore warns travellers after virus outbreak\n",
              "4996                    slater stars for blues on day one\n",
              "4997       sopranos filming delayed over contract dispute\n",
              "4998               souris outlines regional roads funding\n",
              "4999               south east water licensees to pay levy\n",
              "Name: headline_text, Length: 5000, dtype: object"
            ]
          },
          "metadata": {},
          "execution_count": 115
        }
      ]
    },
    {
      "cell_type": "code",
      "source": [
        "# stemming - snowball stemmer is used\n",
        "from nltk.stem import SnowballStemmer\n",
        "stemmer=SnowballStemmer(\"english\")\n",
        "import nltk #importing natural language toolkit \n",
        "from nltk.tokenize import word_tokenize # word tokenizer is used to tokenize a sentence into tokens or words\n",
        "nltk.download(\"punkt\") # an additional file that support natural language processing\n"
      ],
      "metadata": {
        "colab": {
          "base_uri": "https://localhost:8080/"
        },
        "id": "TJzRnggemclY",
        "outputId": "a0a31455-2449-4104-e0da-5b86f3f5499c"
      },
      "execution_count": null,
      "outputs": [
        {
          "output_type": "stream",
          "name": "stderr",
          "text": [
            "[nltk_data] Downloading package punkt to /root/nltk_data...\n",
            "[nltk_data]   Package punkt is already up-to-date!\n"
          ]
        },
        {
          "output_type": "execute_result",
          "data": {
            "text/plain": [
              "True"
            ]
          },
          "metadata": {},
          "execution_count": 116
        }
      ]
    },
    {
      "cell_type": "code",
      "source": [
        "txt=txt.apply(lambda x:[stemmer.stem(i.lower()) for i in word_tokenize(x)]).apply(lambda y:' '.join(y))\n",
        "txt # here the tokenized data is stemmed and also converted to lowecase letters and then joined with the next token/word"
      ],
      "metadata": {
        "colab": {
          "base_uri": "https://localhost:8080/"
        },
        "id": "fl1RTY9rmhun",
        "outputId": "aa8724ac-e9bb-40cf-bee4-29fed14ba6bf"
      },
      "execution_count": null,
      "outputs": [
        {
          "output_type": "execute_result",
          "data": {
            "text/plain": [
              "0       aba decid against communiti broadcast licenc\n",
              "1                 act fire wit must be awar of defam\n",
              "2          a g call for infrastructur protect summit\n",
              "3           air nz staff in aust strike for pay rise\n",
              "4          air nz strike to affect australian travel\n",
              "                            ...                     \n",
              "4995       singapor warn travel after virus outbreak\n",
              "4996                 slater star for blue on day one\n",
              "4997         soprano film delay over contract disput\n",
              "4998                   souri outlin region road fund\n",
              "4999            south east water license to pay levi\n",
              "Name: headline_text, Length: 5000, dtype: object"
            ]
          },
          "metadata": {},
          "execution_count": 117
        }
      ]
    },
    {
      "cell_type": "code",
      "source": [
        "from nltk.corpus import stopwords# importing stopwords(joining words that does not affect the content of data)\n",
        "nltk.download('stopwords')\n",
        "sw=stopwords.words('english')\n",
        "print(sw)# list of stop words are stored in variable \"sw\""
      ],
      "metadata": {
        "colab": {
          "base_uri": "https://localhost:8080/"
        },
        "id": "RhKmEyBemojP",
        "outputId": "a8bc3c49-9c5d-496f-c754-9ffd653de5b7"
      },
      "execution_count": null,
      "outputs": [
        {
          "output_type": "stream",
          "name": "stdout",
          "text": [
            "['i', 'me', 'my', 'myself', 'we', 'our', 'ours', 'ourselves', 'you', \"you're\", \"you've\", \"you'll\", \"you'd\", 'your', 'yours', 'yourself', 'yourselves', 'he', 'him', 'his', 'himself', 'she', \"she's\", 'her', 'hers', 'herself', 'it', \"it's\", 'its', 'itself', 'they', 'them', 'their', 'theirs', 'themselves', 'what', 'which', 'who', 'whom', 'this', 'that', \"that'll\", 'these', 'those', 'am', 'is', 'are', 'was', 'were', 'be', 'been', 'being', 'have', 'has', 'had', 'having', 'do', 'does', 'did', 'doing', 'a', 'an', 'the', 'and', 'but', 'if', 'or', 'because', 'as', 'until', 'while', 'of', 'at', 'by', 'for', 'with', 'about', 'against', 'between', 'into', 'through', 'during', 'before', 'after', 'above', 'below', 'to', 'from', 'up', 'down', 'in', 'out', 'on', 'off', 'over', 'under', 'again', 'further', 'then', 'once', 'here', 'there', 'when', 'where', 'why', 'how', 'all', 'any', 'both', 'each', 'few', 'more', 'most', 'other', 'some', 'such', 'no', 'nor', 'not', 'only', 'own', 'same', 'so', 'than', 'too', 'very', 's', 't', 'can', 'will', 'just', 'don', \"don't\", 'should', \"should've\", 'now', 'd', 'll', 'm', 'o', 're', 've', 'y', 'ain', 'aren', \"aren't\", 'couldn', \"couldn't\", 'didn', \"didn't\", 'doesn', \"doesn't\", 'hadn', \"hadn't\", 'hasn', \"hasn't\", 'haven', \"haven't\", 'isn', \"isn't\", 'ma', 'mightn', \"mightn't\", 'mustn', \"mustn't\", 'needn', \"needn't\", 'shan', \"shan't\", 'shouldn', \"shouldn't\", 'wasn', \"wasn't\", 'weren', \"weren't\", 'won', \"won't\", 'wouldn', \"wouldn't\"]\n"
          ]
        },
        {
          "output_type": "stream",
          "name": "stderr",
          "text": [
            "[nltk_data] Downloading package stopwords to /root/nltk_data...\n",
            "[nltk_data]   Package stopwords is already up-to-date!\n"
          ]
        }
      ]
    },
    {
      "cell_type": "code",
      "source": [
        "# tokenized the sentences in \"txt\" and compare it with the stopwords stored in variable \"sw\" \n",
        "#if exist then the the corresponding token is removed from \"txt\"\n",
        "txt=txt.apply(lambda x:[i for i in word_tokenize(x) if i not in sw]).apply(lambda y:\" \".join(y))\n",
        "txt"
      ],
      "metadata": {
        "colab": {
          "base_uri": "https://localhost:8080/"
        },
        "id": "jI-nrdubmsTm",
        "outputId": "91e987df-8825-457c-e54b-e49d9cba9f35"
      },
      "execution_count": null,
      "outputs": [
        {
          "output_type": "execute_result",
          "data": {
            "text/plain": [
              "0         aba decid communiti broadcast licenc\n",
              "1                 act fire wit must awar defam\n",
              "2          g call infrastructur protect summit\n",
              "3            air nz staff aust strike pay rise\n",
              "4       air nz strike affect australian travel\n",
              "                         ...                  \n",
              "4995       singapor warn travel virus outbreak\n",
              "4996                  slater star blue day one\n",
              "4997        soprano film delay contract disput\n",
              "4998             souri outlin region road fund\n",
              "4999         south east water license pay levi\n",
              "Name: headline_text, Length: 5000, dtype: object"
            ]
          },
          "metadata": {},
          "execution_count": 119
        }
      ]
    },
    {
      "cell_type": "code",
      "source": [
        "#removing other unwanted items from txt\n",
        "txt=txt.apply(lambda x:[i for i in word_tokenize(x) if len(i)>=3]).apply(lambda y:\" \".join(y))\n",
        "txt"
      ],
      "metadata": {
        "colab": {
          "base_uri": "https://localhost:8080/"
        },
        "id": "o7aKMm9NmzYm",
        "outputId": "537fdcf9-bca6-418f-8388-2fc0f77108c3"
      },
      "execution_count": null,
      "outputs": [
        {
          "output_type": "execute_result",
          "data": {
            "text/plain": [
              "0       aba decid communiti broadcast licenc\n",
              "1               act fire wit must awar defam\n",
              "2          call infrastructur protect summit\n",
              "3             air staff aust strike pay rise\n",
              "4        air strike affect australian travel\n",
              "                        ...                 \n",
              "4995     singapor warn travel virus outbreak\n",
              "4996                slater star blue day one\n",
              "4997      soprano film delay contract disput\n",
              "4998           souri outlin region road fund\n",
              "4999       south east water license pay levi\n",
              "Name: headline_text, Length: 5000, dtype: object"
            ]
          },
          "metadata": {},
          "execution_count": 120
        }
      ]
    },
    {
      "cell_type": "code",
      "source": [
        "# vectorized\n",
        "from sklearn.feature_extraction.text import TfidfVectorizer\n",
        "vec=TfidfVectorizer()\n",
        "data_vec=vec.fit_transform(txt)\n",
        "print(data_vec)"
      ],
      "metadata": {
        "colab": {
          "base_uri": "https://localhost:8080/"
        },
        "id": "SF_v_5cQm6JG",
        "outputId": "255d4596-a5e7-49fa-ecdc-0e4117694417"
      },
      "execution_count": null,
      "outputs": [
        {
          "output_type": "stream",
          "name": "stdout",
          "text": [
            "  (0, 2666)\t0.47481440472288794\n",
            "  (0, 681)\t0.4882125296508999\n",
            "  (0, 1063)\t0.36150978643260123\n",
            "  (0, 1306)\t0.4088508373048087\n",
            "  (0, 78)\t0.4882125296508999\n",
            "  (1, 1315)\t0.46533055378666427\n",
            "  (1, 402)\t0.46533055378666427\n",
            "  (1, 3040)\t0.40474430134902495\n",
            "  (1, 5052)\t0.4376739672335005\n",
            "  (1, 1816)\t0.29332194313873705\n",
            "  (1, 117)\t0.3542890599921012\n",
            "  (2, 4444)\t0.5093899509434731\n",
            "  (2, 3564)\t0.49501130980903174\n",
            "  (2, 2351)\t0.6021660063357204\n",
            "  (2, 770)\t0.36452953495243995\n",
            "  (3, 3849)\t0.39008378033912866\n",
            "  (3, 3331)\t0.40266655722753747\n",
            "  (3, 4397)\t0.4233330788018658\n",
            "  (3, 383)\t0.3767455862438008\n",
            "  (3, 4324)\t0.4672844866532536\n",
            "  (3, 178)\t0.3823497929619028\n",
            "  (4, 4694)\t0.4744094441020436\n",
            "  (4, 387)\t0.44980902246361265\n",
            "  (4, 149)\t0.47952078537434734\n",
            "  (4, 4397)\t0.43441846716525856\n",
            "  :\t:\n",
            "  (4995, 4905)\t0.4794778398061785\n",
            "  (4995, 4162)\t0.5104503932134172\n",
            "  (4995, 4947)\t0.30422783378998947\n",
            "  (4995, 4694)\t0.4170496042124562\n",
            "  (4996, 4190)\t0.5335219686619243\n",
            "  (4996, 587)\t0.4305643093599747\n",
            "  (4996, 4337)\t0.4471018607357771\n",
            "  (4996, 3194)\t0.4082840625524019\n",
            "  (4996, 1293)\t0.4041939322315279\n",
            "  (4997, 4258)\t0.5156840863785886\n",
            "  (4997, 1806)\t0.4360977937846977\n",
            "  (4997, 1130)\t0.4556043617394697\n",
            "  (4997, 1328)\t0.3936397496199757\n",
            "  (4997, 1436)\t0.42586506125190987\n",
            "  (4998, 4264)\t0.5673919462634851\n",
            "  (4998, 3244)\t0.5084751864360925\n",
            "  (4998, 3859)\t0.3701186009931759\n",
            "  (4998, 3716)\t0.4132092016778889\n",
            "  (4998, 1931)\t0.33434972849053046\n",
            "  (4999, 2668)\t0.530614086312615\n",
            "  (4999, 4265)\t0.3811932210154254\n",
            "  (4999, 1550)\t0.39215646777594565\n",
            "  (4999, 2653)\t0.44017183725692954\n",
            "  (4999, 4961)\t0.30955305468961236\n",
            "  (4999, 3331)\t0.3602490589275657\n"
          ]
        }
      ]
    },
    {
      "cell_type": "code",
      "source": [
        "print(data_vec)"
      ],
      "metadata": {
        "colab": {
          "base_uri": "https://localhost:8080/"
        },
        "id": "Ge6Ah2EknBvH",
        "outputId": "72e368ff-6e6f-4063-94f2-34934373ffe8"
      },
      "execution_count": null,
      "outputs": [
        {
          "output_type": "stream",
          "name": "stdout",
          "text": [
            "  (0, 2666)\t0.47481440472288794\n",
            "  (0, 681)\t0.4882125296508999\n",
            "  (0, 1063)\t0.36150978643260123\n",
            "  (0, 1306)\t0.4088508373048087\n",
            "  (0, 78)\t0.4882125296508999\n",
            "  (1, 1315)\t0.46533055378666427\n",
            "  (1, 402)\t0.46533055378666427\n",
            "  (1, 3040)\t0.40474430134902495\n",
            "  (1, 5052)\t0.4376739672335005\n",
            "  (1, 1816)\t0.29332194313873705\n",
            "  (1, 117)\t0.3542890599921012\n",
            "  (2, 4444)\t0.5093899509434731\n",
            "  (2, 3564)\t0.49501130980903174\n",
            "  (2, 2351)\t0.6021660063357204\n",
            "  (2, 770)\t0.36452953495243995\n",
            "  (3, 3849)\t0.39008378033912866\n",
            "  (3, 3331)\t0.40266655722753747\n",
            "  (3, 4397)\t0.4233330788018658\n",
            "  (3, 383)\t0.3767455862438008\n",
            "  (3, 4324)\t0.4672844866532536\n",
            "  (3, 178)\t0.3823497929619028\n",
            "  (4, 4694)\t0.4744094441020436\n",
            "  (4, 387)\t0.44980902246361265\n",
            "  (4, 149)\t0.47952078537434734\n",
            "  (4, 4397)\t0.43441846716525856\n",
            "  :\t:\n",
            "  (4995, 4905)\t0.4794778398061785\n",
            "  (4995, 4162)\t0.5104503932134172\n",
            "  (4995, 4947)\t0.30422783378998947\n",
            "  (4995, 4694)\t0.4170496042124562\n",
            "  (4996, 4190)\t0.5335219686619243\n",
            "  (4996, 587)\t0.4305643093599747\n",
            "  (4996, 4337)\t0.4471018607357771\n",
            "  (4996, 3194)\t0.4082840625524019\n",
            "  (4996, 1293)\t0.4041939322315279\n",
            "  (4997, 4258)\t0.5156840863785886\n",
            "  (4997, 1806)\t0.4360977937846977\n",
            "  (4997, 1130)\t0.4556043617394697\n",
            "  (4997, 1328)\t0.3936397496199757\n",
            "  (4997, 1436)\t0.42586506125190987\n",
            "  (4998, 4264)\t0.5673919462634851\n",
            "  (4998, 3244)\t0.5084751864360925\n",
            "  (4998, 3859)\t0.3701186009931759\n",
            "  (4998, 3716)\t0.4132092016778889\n",
            "  (4998, 1931)\t0.33434972849053046\n",
            "  (4999, 2668)\t0.530614086312615\n",
            "  (4999, 4265)\t0.3811932210154254\n",
            "  (4999, 1550)\t0.39215646777594565\n",
            "  (4999, 2653)\t0.44017183725692954\n",
            "  (4999, 4961)\t0.30955305468961236\n",
            "  (4999, 3331)\t0.3602490589275657\n"
          ]
        }
      ]
    },
    {
      "cell_type": "code",
      "source": [
        "from sklearn.cluster import KMeans #importing kmeans clustering algorithhm(Unsupervised)\n",
        "wcss=[]  # with in cluster sum of squares(wcss) an empty list created\n",
        "for i in range(1,10):\n",
        "  kmeans=KMeans(n_clusters=i,init=\"k-means++\",random_state=0)\n",
        "  kmeans.fit(data_vec)\n",
        "  wcss.append(kmeans.inertia_)\n",
        "wcss"
      ],
      "metadata": {
        "colab": {
          "base_uri": "https://localhost:8080/"
        },
        "id": "3rUU6KFGnGDH",
        "outputId": "da014626-1eb0-4129-8ec7-fe9f0fe65129"
      },
      "execution_count": null,
      "outputs": [
        {
          "output_type": "stream",
          "name": "stderr",
          "text": [
            "/usr/local/lib/python3.9/dist-packages/sklearn/cluster/_kmeans.py:870: FutureWarning: The default value of `n_init` will change from 10 to 'auto' in 1.4. Set the value of `n_init` explicitly to suppress the warning\n",
            "  warnings.warn(\n"
          ]
        },
        {
          "output_type": "execute_result",
          "data": {
            "text/plain": [
              "[4981.560787519642,\n",
              " 4969.394430565002,\n",
              " 4951.781123334757,\n",
              " 4938.602052726956,\n",
              " 4929.19033486789,\n",
              " 4915.054231310137,\n",
              " 4897.596215480628,\n",
              " 4895.3541042192055,\n",
              " 4880.575635187783]"
            ]
          },
          "metadata": {},
          "execution_count": 123
        }
      ]
    },
    {
      "cell_type": "code",
      "source": [
        "import matplotlib.pyplot as plt # plotting graph wrt wcss value ,using elbow method value for \"k\" is taken\n",
        "plt.plot(range(1,10),wcss)\n",
        "plt.title(\"The Elbow Method\")\n",
        "plt.xlabel(\"no of clusters\")\n",
        "plt.ylabel(\"wcss\")\n",
        "plt.savefig(\"nlpcluster.png\")\n",
        "plt.show()  "
      ],
      "metadata": {
        "colab": {
          "base_uri": "https://localhost:8080/",
          "height": 472
        },
        "id": "S2qI-g_foIg_",
        "outputId": "57261007-5e10-4554-b701-aaeb4f154ae9"
      },
      "execution_count": null,
      "outputs": [
        {
          "output_type": "display_data",
          "data": {
            "text/plain": [
              "<Figure size 640x480 with 1 Axes>"
            ],
            "image/png": "[encoded data removed]"
          },
          "metadata": {}
        }
      ]
    },
    {
      "cell_type": "code",
      "source": [
        "km=KMeans(n_clusters=7,init=\"k-means++\",random_state=0) # value of k is taken as \"7\"\n",
        "km.fit(data_vec)\n",
        "y=km.predict(data_vec)# predicting values\n",
        "y"
      ],
      "metadata": {
        "colab": {
          "base_uri": "https://localhost:8080/"
        },
        "id": "yvEprMyooO4O",
        "outputId": "32e8e158-f1c2-4227-ba2b-8183b210fa2c"
      },
      "execution_count": null,
      "outputs": [
        {
          "output_type": "execute_result",
          "data": {
            "text/plain": [
              "array([0, 0, 0, ..., 0, 0, 1], dtype=int32)"
            ]
          },
          "metadata": {},
          "execution_count": 125
        }
      ]
    },
    {
      "cell_type": "code",
      "source": [
        "df[\"cluster\"]=y # assigned the sentence to corresponding clusters\n",
        "df"
      ],
      "metadata": {
        "colab": {
          "base_uri": "https://localhost:8080/",
          "height": 423
        },
        "id": "hhAbMwRVoWqO",
        "outputId": "0b3d52e9-43c1-499b-ea7d-8ccd67e9b827"
      },
      "execution_count": null,
      "outputs": [
        {
          "output_type": "execute_result",
          "data": {
            "text/plain": [
              "                                          headline_text  cluster\n",
              "0     aba decides against community broadcasting lic...        0\n",
              "1        act fire witnesses must be aware of defamation        0\n",
              "2        a g calls for infrastructure protection summit        0\n",
              "3              air nz staff in aust strike for pay rise        0\n",
              "4         air nz strike to affect australian travellers        0\n",
              "...                                                 ...      ...\n",
              "4995    singapore warns travellers after virus outbreak        0\n",
              "4996                  slater stars for blues on day one        0\n",
              "4997     sopranos filming delayed over contract dispute        0\n",
              "4998             souris outlines regional roads funding        0\n",
              "4999             south east water licensees to pay levy        1\n",
              "\n",
              "[5000 rows x 2 columns]"
            ],
            "text/html": [
              "\n",
              "  <div id=\"df-2dc9d991-8c06-42c3-a3b3-116ad9d11d89\">\n",
              "    <div class=\"colab-df-container\">\n",
              "      <div>\n",
              "<style scoped>\n",
              "    .dataframe tbody tr th:only-of-type {\n",
              "        vertical-align: middle;\n",
              "    }\n",
              "\n",
              "    .dataframe tbody tr th {\n",
              "        vertical-align: top;\n",
              "    }\n",
              "\n",
              "    .dataframe thead th {\n",
              "        text-align: right;\n",
              "    }\n",
              "</style>\n",
              "<table border=\"1\" class=\"dataframe\">\n",
              "  <thead>\n",
              "    <tr style=\"text-align: right;\">\n",
              "      <th></th>\n",
              "      <th>headline_text</th>\n",
              "      <th>cluster</th>\n",
              "    </tr>\n",
              "  </thead>\n",
              "  <tbody>\n",
              "    <tr>\n",
              "      <th>0</th>\n",
              "      <td>aba decides against community broadcasting lic...</td>\n",
              "      <td>0</td>\n",
              "    </tr>\n",
              "    <tr>\n",
              "      <th>1</th>\n",
              "      <td>act fire witnesses must be aware of defamation</td>\n",
              "      <td>0</td>\n",
              "    </tr>\n",
              "    <tr>\n",
              "      <th>2</th>\n",
              "      <td>a g calls for infrastructure protection summit</td>\n",
              "      <td>0</td>\n",
              "    </tr>\n",
              "    <tr>\n",
              "      <th>3</th>\n",
              "      <td>air nz staff in aust strike for pay rise</td>\n",
              "      <td>0</td>\n",
              "    </tr>\n",
              "    <tr>\n",
              "      <th>4</th>\n",
              "      <td>air nz strike to affect australian travellers</td>\n",
              "      <td>0</td>\n",
              "    </tr>\n",
              "    <tr>\n",
              "      <th>...</th>\n",
              "      <td>...</td>\n",
              "      <td>...</td>\n",
              "    </tr>\n",
              "    <tr>\n",
              "      <th>4995</th>\n",
              "      <td>singapore warns travellers after virus outbreak</td>\n",
              "      <td>0</td>\n",
              "    </tr>\n",
              "    <tr>\n",
              "      <th>4996</th>\n",
              "      <td>slater stars for blues on day one</td>\n",
              "      <td>0</td>\n",
              "    </tr>\n",
              "    <tr>\n",
              "      <th>4997</th>\n",
              "      <td>sopranos filming delayed over contract dispute</td>\n",
              "      <td>0</td>\n",
              "    </tr>\n",
              "    <tr>\n",
              "      <th>4998</th>\n",
              "      <td>souris outlines regional roads funding</td>\n",
              "      <td>0</td>\n",
              "    </tr>\n",
              "    <tr>\n",
              "      <th>4999</th>\n",
              "      <td>south east water licensees to pay levy</td>\n",
              "      <td>1</td>\n",
              "    </tr>\n",
              "  </tbody>\n",
              "</table>\n",
              "<p>5000 rows × 2 columns</p>\n",
              "</div>\n",
              "      <button class=\"colab-df-convert\" onclick=\"convertToInteractive('df-2dc9d991-8c06-42c3-a3b3-116ad9d11d89')\"\n",
              "              title=\"Convert this dataframe to an interactive table.\"\n",
              "              style=\"display:none;\">\n",
              "        \n",
              "  <svg xmlns=\"http://www.w3.org/2000/svg\" height=\"24px\"viewBox=\"0 0 24 24\"\n",
              "       width=\"24px\">\n",
              "    <path d=\"M0 0h24v24H0V0z\" fill=\"none\"/>\n",
              "    <path d=\"M18.56 5.44l.94 2.06.94-2.06 2.06-.94-2.06-.94-.94-2.06-.94 2.06-2.06.94zm-11 1L8.5 8.5l.94-2.06 2.06-.94-2.06-.94L8.5 2.5l-.94 2.06-2.06.94zm10 10l.94 2.06.94-2.06 2.06-.94-2.06-.94-.94-2.06-.94 2.06-2.06.94z\"/><path d=\"M17.41 7.96l-1.37-1.37c-.4-.4-.92-.59-1.43-.59-.52 0-1.04.2-1.43.59L10.3 9.45l-7.72 7.72c-.78.78-.78 2.05 0 2.83L4 21.41c.39.39.9.59 1.41.59.51 0 1.02-.2 1.41-.59l7.78-7.78 2.81-2.81c.8-.78.8-2.07 0-2.86zM5.41 20L4 18.59l7.72-7.72 1.47 1.35L5.41 20z\"/>\n",
              "  </svg>\n",
              "      </button>\n",
              "      \n",
              "  <style>\n",
              "    .colab-df-container {\n",
              "      display:flex;\n",
              "      flex-wrap:wrap;\n",
              "      gap: 12px;\n",
              "    }\n",
              "\n",
              "    .colab-df-convert {\n",
              "      background-color: #E8F0FE;\n",
              "      border: none;\n",
              "      border-radius: 50%;\n",
              "      cursor: pointer;\n",
              "      display: none;\n",
              "      fill: #1967D2;\n",
              "      height: 32px;\n",
              "      padding: 0 0 0 0;\n",
              "      width: 32px;\n",
              "    }\n",
              "\n",
              "    .colab-df-convert:hover {\n",
              "      background-color: #E2EBFA;\n",
              "      box-shadow: 0px 1px 2px rgba(60, 64, 67, 0.3), 0px 1px 3px 1px rgba(60, 64, 67, 0.15);\n",
              "      fill: #174EA6;\n",
              "    }\n",
              "\n",
              "    [theme=dark] .colab-df-convert {\n",
              "      background-color: #3B4455;\n",
              "      fill: #D2E3FC;\n",
              "    }\n",
              "\n",
              "    [theme=dark] .colab-df-convert:hover {\n",
              "      background-color: #434B5C;\n",
              "      box-shadow: 0px 1px 3px 1px rgba(0, 0, 0, 0.15);\n",
              "      filter: drop-shadow(0px 1px 2px rgba(0, 0, 0, 0.3));\n",
              "      fill: #FFFFFF;\n",
              "    }\n",
              "  </style>\n",
              "\n",
              "      <script>\n",
              "        const buttonEl =\n",
              "          document.querySelector('#df-2dc9d991-8c06-42c3-a3b3-116ad9d11d89 button.colab-df-convert');\n",
              "        buttonEl.style.display =\n",
              "          google.colab.kernel.accessAllowed ? 'block' : 'none';\n",
              "\n",
              "        async function convertToInteractive(key) {\n",
              "          const element = document.querySelector('#df-2dc9d991-8c06-42c3-a3b3-116ad9d11d89');\n",
              "          const dataTable =\n",
              "            await google.colab.kernel.invokeFunction('convertToInteractive',\n",
              "                                                     [key], {});\n",
              "          if (!dataTable) return;\n",
              "\n",
              "          const docLinkHtml = 'Like what you see? Visit the ' +\n",
              "            '<a target=\"_blank\" href=https://colab.research.google.com/notebooks/data_table.ipynb>data table notebook</a>'\n",
              "            + ' to learn more about interactive tables.';\n",
              "          element.innerHTML = '';\n",
              "          dataTable['output_type'] = 'display_data';\n",
              "          await google.colab.output.renderOutput(dataTable, element);\n",
              "          const docLink = document.createElement('div');\n",
              "          docLink.innerHTML = docLinkHtml;\n",
              "          element.appendChild(docLink);\n",
              "        }\n",
              "      </script>\n",
              "    </div>\n",
              "  </div>\n",
              "  "
            ]
          },
          "metadata": {},
          "execution_count": 127
        }
      ]
    },
    {
      "cell_type": "code",
      "source": [
        "df[\"cluster\"].value_counts() # counts in each cluster"
      ],
      "metadata": {
        "colab": {
          "base_uri": "https://localhost:8080/"
        },
        "id": "tiN5kY7Cy7Vv",
        "outputId": "1b36a498-cdf5-4fdf-ec0f-6628ee3c9d3b"
      },
      "execution_count": null,
      "outputs": [
        {
          "output_type": "execute_result",
          "data": {
            "text/plain": [
              "0    4128\n",
              "4     192\n",
              "3     168\n",
              "2     161\n",
              "5     146\n",
              "1     112\n",
              "6      93\n",
              "Name: cluster, dtype: int64"
            ]
          },
          "metadata": {},
          "execution_count": 128
        }
      ]
    }
  ]
}